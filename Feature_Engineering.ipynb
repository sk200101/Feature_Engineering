{
  "nbformat": 4,
  "nbformat_minor": 0,
  "metadata": {
    "colab": {
      "name": "21 Feature Engineering.ipynb",
      "provenance": [],
      "collapsed_sections": [],
      "authorship_tag": "ABX9TyMjH/qOaqf4svRvDHnJBtq3",
      "include_colab_link": true
    },
    "kernelspec": {
      "name": "python3",
      "display_name": "Python 3"
    }
  },
  "cells": [
    {
      "cell_type": "markdown",
      "metadata": {
        "id": "view-in-github",
        "colab_type": "text"
      },
      "source": [
        "<a href=\"https://colab.research.google.com/github/sandipanpaul21/EDA-in-Python/blob/main/21_Feature_Engineering.ipynb\" target=\"_parent\"><img src=\"https://colab.research.google.com/assets/colab-badge.svg\" alt=\"Open In Colab\"/></a>"
      ]
    },
    {
      "cell_type": "code",
      "metadata": {
        "id": "jC2s8V3e6t8V"
      },
      "source": [
        "# Feature Engineering \n",
        "\n",
        "# It helps in increasing the accuracy of the model as by tweaking the features of the data\n",
        "# the performance of the models can be improved which ultimately influences the final result.\n",
        "\n",
        "# Normally Feature Engineering contains 3 Major Steps : \n",
        "# 1.Feature Transformation\n",
        "# 2.Feature Scaling\n",
        "# 3.Feature Construction\n",
        "\n",
        "# 1. Feature Transformation\n",
        "# Features are transformed by replacing the observations of the feature by a function\n",
        "# Sometimes the datasets are not normally distributed and in such circumstances\n",
        "# for the normal functioning of various statistical and other machine learning algorithms\n",
        "# feature transformation is performed to normalize the data\n",
        "# The common application of them is when dealing with predictive models \n",
        "# such as Linear Regression where we need to normalize the data if the data is otherwise.\n",
        "# Methods Used: 1.Log Transformation 2.Square Root 3.Cube Root and 4.Box-Cox Transformation\n",
        "\n",
        "# 2. Feature Scaling\n",
        "# Feature scaling is conducted to standardize the independent features\n",
        "# This is done because the range of raw data may vary widely. \n",
        "# Some predictive models such as KNN and K-means consider Euclidean distance \n",
        "# it is important for them to have the features on the same scale.\n",
        "# Method Used: Min-Max Scaler \n",
        "\n",
        "# 3. Feature Construction\n",
        "# It is a process of creating features based on the original descriptors\n",
        "# This helps in building more efficient features for building predictive models\n",
        "# Methods Used: 1.Binning and 2.Encoding"
      ],
      "execution_count": null,
      "outputs": []
    },
    {
      "cell_type": "code",
      "metadata": {
        "id": "yd60rqCQ7BgJ",
        "colab": {
          "base_uri": "https://localhost:8080/",
          "height": 73
        },
        "outputId": "3dfecb7c-fc7d-4f07-c4fd-88d81f95dd90"
      },
      "source": [
        "# Import Libraries\n",
        "\n",
        "import pandas as pd\n",
        "import numpy as np\n",
        "import matplotlib \n",
        "%matplotlib inline\n",
        "from sklearn import datasets\n",
        "import sklearn as sk\n",
        "import seaborn as sns\n",
        "from scipy import stats\n",
        "from sklearn.preprocessing import MinMaxScaler as min_max\n",
        "from sklearn.preprocessing import OneHotEncoder\n",
        "from sklearn.preprocessing import LabelEncoder"
      ],
      "execution_count": null,
      "outputs": [
        {
          "output_type": "stream",
          "text": [
            "/usr/local/lib/python3.6/dist-packages/statsmodels/tools/_testing.py:19: FutureWarning: pandas.util.testing is deprecated. Use the functions in the public API at pandas.testing instead.\n",
            "  import pandas.util.testing as tm\n"
          ],
          "name": "stderr"
        }
      ]
    },
    {
      "cell_type": "code",
      "metadata": {
        "id": "KPt69x2a7tHs",
        "colab": {
          "base_uri": "https://localhost:8080/",
          "height": 204
        },
        "outputId": "64bfa584-5364-459d-88e8-ae6614e8a721"
      },
      "source": [
        "# Load the Datasets (For indepth analysis please refer to Part O1 All About Datasets)\n",
        "\n",
        "# Boston Dataset\n",
        "boston = datasets.load_boston()\n",
        "boston_pd = pd.DataFrame(boston.data)\n",
        "boston_pd.columns = boston.feature_names\n",
        "boston_pd[\"MEDV\"] = boston.target\n",
        "boston_pd.head()"
      ],
      "execution_count": null,
      "outputs": [
        {
          "output_type": "execute_result",
          "data": {
            "text/html": [
              "<div>\n",
              "<style scoped>\n",
              "    .dataframe tbody tr th:only-of-type {\n",
              "        vertical-align: middle;\n",
              "    }\n",
              "\n",
              "    .dataframe tbody tr th {\n",
              "        vertical-align: top;\n",
              "    }\n",
              "\n",
              "    .dataframe thead th {\n",
              "        text-align: right;\n",
              "    }\n",
              "</style>\n",
              "<table border=\"1\" class=\"dataframe\">\n",
              "  <thead>\n",
              "    <tr style=\"text-align: right;\">\n",
              "      <th></th>\n",
              "      <th>CRIM</th>\n",
              "      <th>ZN</th>\n",
              "      <th>INDUS</th>\n",
              "      <th>CHAS</th>\n",
              "      <th>NOX</th>\n",
              "      <th>RM</th>\n",
              "      <th>AGE</th>\n",
              "      <th>DIS</th>\n",
              "      <th>RAD</th>\n",
              "      <th>TAX</th>\n",
              "      <th>PTRATIO</th>\n",
              "      <th>B</th>\n",
              "      <th>LSTAT</th>\n",
              "      <th>MEDV</th>\n",
              "    </tr>\n",
              "  </thead>\n",
              "  <tbody>\n",
              "    <tr>\n",
              "      <th>0</th>\n",
              "      <td>0.00632</td>\n",
              "      <td>18.0</td>\n",
              "      <td>2.31</td>\n",
              "      <td>0.0</td>\n",
              "      <td>0.538</td>\n",
              "      <td>6.575</td>\n",
              "      <td>65.2</td>\n",
              "      <td>4.0900</td>\n",
              "      <td>1.0</td>\n",
              "      <td>296.0</td>\n",
              "      <td>15.3</td>\n",
              "      <td>396.90</td>\n",
              "      <td>4.98</td>\n",
              "      <td>24.0</td>\n",
              "    </tr>\n",
              "    <tr>\n",
              "      <th>1</th>\n",
              "      <td>0.02731</td>\n",
              "      <td>0.0</td>\n",
              "      <td>7.07</td>\n",
              "      <td>0.0</td>\n",
              "      <td>0.469</td>\n",
              "      <td>6.421</td>\n",
              "      <td>78.9</td>\n",
              "      <td>4.9671</td>\n",
              "      <td>2.0</td>\n",
              "      <td>242.0</td>\n",
              "      <td>17.8</td>\n",
              "      <td>396.90</td>\n",
              "      <td>9.14</td>\n",
              "      <td>21.6</td>\n",
              "    </tr>\n",
              "    <tr>\n",
              "      <th>2</th>\n",
              "      <td>0.02729</td>\n",
              "      <td>0.0</td>\n",
              "      <td>7.07</td>\n",
              "      <td>0.0</td>\n",
              "      <td>0.469</td>\n",
              "      <td>7.185</td>\n",
              "      <td>61.1</td>\n",
              "      <td>4.9671</td>\n",
              "      <td>2.0</td>\n",
              "      <td>242.0</td>\n",
              "      <td>17.8</td>\n",
              "      <td>392.83</td>\n",
              "      <td>4.03</td>\n",
              "      <td>34.7</td>\n",
              "    </tr>\n",
              "    <tr>\n",
              "      <th>3</th>\n",
              "      <td>0.03237</td>\n",
              "      <td>0.0</td>\n",
              "      <td>2.18</td>\n",
              "      <td>0.0</td>\n",
              "      <td>0.458</td>\n",
              "      <td>6.998</td>\n",
              "      <td>45.8</td>\n",
              "      <td>6.0622</td>\n",
              "      <td>3.0</td>\n",
              "      <td>222.0</td>\n",
              "      <td>18.7</td>\n",
              "      <td>394.63</td>\n",
              "      <td>2.94</td>\n",
              "      <td>33.4</td>\n",
              "    </tr>\n",
              "    <tr>\n",
              "      <th>4</th>\n",
              "      <td>0.06905</td>\n",
              "      <td>0.0</td>\n",
              "      <td>2.18</td>\n",
              "      <td>0.0</td>\n",
              "      <td>0.458</td>\n",
              "      <td>7.147</td>\n",
              "      <td>54.2</td>\n",
              "      <td>6.0622</td>\n",
              "      <td>3.0</td>\n",
              "      <td>222.0</td>\n",
              "      <td>18.7</td>\n",
              "      <td>396.90</td>\n",
              "      <td>5.33</td>\n",
              "      <td>36.2</td>\n",
              "    </tr>\n",
              "  </tbody>\n",
              "</table>\n",
              "</div>"
            ],
            "text/plain": [
              "      CRIM    ZN  INDUS  CHAS    NOX  ...    TAX  PTRATIO       B  LSTAT  MEDV\n",
              "0  0.00632  18.0   2.31   0.0  0.538  ...  296.0     15.3  396.90   4.98  24.0\n",
              "1  0.02731   0.0   7.07   0.0  0.469  ...  242.0     17.8  396.90   9.14  21.6\n",
              "2  0.02729   0.0   7.07   0.0  0.469  ...  242.0     17.8  392.83   4.03  34.7\n",
              "3  0.03237   0.0   2.18   0.0  0.458  ...  222.0     18.7  394.63   2.94  33.4\n",
              "4  0.06905   0.0   2.18   0.0  0.458  ...  222.0     18.7  396.90   5.33  36.2\n",
              "\n",
              "[5 rows x 14 columns]"
            ]
          },
          "metadata": {
            "tags": []
          },
          "execution_count": 3
        }
      ]
    },
    {
      "cell_type": "code",
      "metadata": {
        "id": "Ltq2p5CK8Da_",
        "colab": {
          "base_uri": "https://localhost:8080/",
          "height": 287
        },
        "outputId": "b468d8db-28dd-4df3-8ce9-6d473b9906a4"
      },
      "source": [
        "# Skewness\n",
        "\n",
        "# Spreadness of the Distribution\n",
        "# If Skewness = 0, data is perfectly symmetrical / Normally Distributed\n",
        "# If Skewness is less than -1 or greater +1, distribution is highly skewed\n",
        "# If Skewness is between -1 and -0.5 or between 0.5 and 1, distribution is moderately skewed\n",
        "# If Skewness is between -0.5 and 0.5 then it is approximately symmetric  \n",
        "\n",
        "boston_pd.skew()"
      ],
      "execution_count": null,
      "outputs": [
        {
          "output_type": "execute_result",
          "data": {
            "text/plain": [
              "CRIM       5.223149\n",
              "ZN         2.225666\n",
              "INDUS      0.295022\n",
              "CHAS       3.405904\n",
              "NOX        0.729308\n",
              "RM         0.403612\n",
              "AGE       -0.598963\n",
              "DIS        1.011781\n",
              "RAD        1.004815\n",
              "TAX        0.669956\n",
              "PTRATIO   -0.802325\n",
              "B         -2.890374\n",
              "LSTAT      0.906460\n",
              "MEDV       1.108098\n",
              "dtype: float64"
            ]
          },
          "metadata": {
            "tags": []
          },
          "execution_count": 4
        }
      ]
    },
    {
      "cell_type": "code",
      "metadata": {
        "id": "k1WEjBTW8seq",
        "colab": {
          "base_uri": "https://localhost:8080/",
          "height": 35
        },
        "outputId": "b360f7d1-d1a8-4f40-b2da-3e96aa3453dc"
      },
      "source": [
        "# Check for one variable\n",
        "print(\"Skewness of 'CRIM' Column is \",boston_pd['CRIM'].skew())\n",
        "\n",
        "# Inference : 5.22 which is highly skewed. "
      ],
      "execution_count": null,
      "outputs": [
        {
          "output_type": "stream",
          "text": [
            "Skewness of 'CRIM' Column is  5.223148798243851\n"
          ],
          "name": "stdout"
        }
      ]
    },
    {
      "cell_type": "code",
      "metadata": {
        "id": "IgJPwHVN9FqR",
        "colab": {
          "base_uri": "https://localhost:8080/",
          "height": 297
        },
        "outputId": "100c190b-72a5-467b-f740-641e3741d562"
      },
      "source": [
        "# Plot Bar Graph\n",
        "\n",
        "# By Plotting histogram we can check the skewness of the data.\n",
        "sns.distplot(boston_pd['CRIM'])\n",
        "\n",
        "# Inference : \n",
        "# Right Skewed\n",
        "# It is evident how skewed the data is. \n",
        "# We can now apply various transformation and see how it affects the skewness of the data."
      ],
      "execution_count": null,
      "outputs": [
        {
          "output_type": "execute_result",
          "data": {
            "text/plain": [
              "<matplotlib.axes._subplots.AxesSubplot at 0x7f0f75489d30>"
            ]
          },
          "metadata": {
            "tags": []
          },
          "execution_count": 6
        },
        {
          "output_type": "display_data",
          "data": {
            "image/png": "[encoded data removed]",
            "text/plain": [
              "<Figure size 432x288 with 1 Axes>"
            ]
          },
          "metadata": {
            "tags": [],
            "needs_background": "light"
          }
        }
      ]
    },
    {
      "cell_type": "code",
      "metadata": {
        "id": "qi4zmwWW9ZjR",
        "colab": {
          "base_uri": "https://localhost:8080/",
          "height": 352
        },
        "outputId": "55380c45-7ad1-475f-ff49-ccbe3ee810a7"
      },
      "source": [
        "# Log Transformation\n",
        "\n",
        "# Among the most commonly used methods of transformation, \n",
        "# Log Transformation takes the natural logarithm of the variable \n",
        "# which helps in making the distribution normal. \n",
        "# We do Log transformation on the variable, to reduce skewness and normalize the data\n",
        "\n",
        "boston_pd['CRIM_Log'] = np.log(boston_pd['CRIM'])\n",
        "print('After LOG TRANSFORMATION, Skewness is :',boston_pd['CRIM_Log'].skew().round(3))\n",
        "print('\\n')\n",
        "sns.distplot(boston_pd['CRIM_Log'])\n",
        "\n",
        "# Inference : \n",
        "# The distribution certainly now appears to be much more normal. "
      ],
      "execution_count": null,
      "outputs": [
        {
          "output_type": "stream",
          "text": [
            "After LOG TRANSFORMATION, Skewness is : 0.406\n",
            "\n",
            "\n"
          ],
          "name": "stdout"
        },
        {
          "output_type": "execute_result",
          "data": {
            "text/plain": [
              "<matplotlib.axes._subplots.AxesSubplot at 0x7f0f75303048>"
            ]
          },
          "metadata": {
            "tags": []
          },
          "execution_count": 7
        },
        {
          "output_type": "display_data",
          "data": {
            "image/png": "[encoded data removed]",
            "text/plain": [
              "<Figure size 432x288 with 1 Axes>"
            ]
          },
          "metadata": {
            "tags": [],
            "needs_background": "light"
          }
        }
      ]
    },
    {
      "cell_type": "code",
      "metadata": {
        "id": "Js8JagGN-Ttf",
        "colab": {
          "base_uri": "https://localhost:8080/",
          "height": 352
        },
        "outputId": "99f08375-a368-4577-bfe8-7d74e654acb4"
      },
      "source": [
        "# Square-Root Transformation\n",
        "\n",
        "# Another popular method of transformation is Square root transformation \n",
        "# which helps in normalizing the data.\n",
        "\n",
        "boston_pd['CRIM_Sqrt'] = np.sqrt(boston_pd['CRIM'])\n",
        "print('After SQUARE ROOT TRANSFORMATION, Skewness is :',boston_pd['CRIM_Sqrt'].skew().round(3))\n",
        "print('\\n')\n",
        "sns.distplot(boston_pd['CRIM_Sqrt'])\n",
        "\n",
        "# Inference : \n",
        "# The distribution certainly now appears to be much more normal."
      ],
      "execution_count": null,
      "outputs": [
        {
          "output_type": "stream",
          "text": [
            "After SQUARE ROOT TRANSFORMATION, Skewness is : 2.024\n",
            "\n",
            "\n"
          ],
          "name": "stdout"
        },
        {
          "output_type": "execute_result",
          "data": {
            "text/plain": [
              "<matplotlib.axes._subplots.AxesSubplot at 0x7f0f74e75588>"
            ]
          },
          "metadata": {
            "tags": []
          },
          "execution_count": 8
        },
        {
          "output_type": "display_data",
          "data": {
            "image/png": "[encoded data removed]",
            "text/plain": [
              "<Figure size 432x288 with 1 Axes>"
            ]
          },
          "metadata": {
            "tags": [],
            "needs_background": "light"
          }
        }
      ]
    },
    {
      "cell_type": "code",
      "metadata": {
        "id": "rydwdo3I_uUx",
        "colab": {
          "base_uri": "https://localhost:8080/",
          "height": 352
        },
        "outputId": "9ee7b778-9234-46ef-cca0-cc0de8c9e5b3"
      },
      "source": [
        "# Cube-Root Transformation\n",
        "# Apart form Log and Square-Root transformation, Cube-Root transformation can also be tried.\n",
        "\n",
        "boston_pd['CRIM_cbrt'] = np.cbrt(boston_pd['CRIM'])\n",
        "print('After CUBE ROOT TRANSFORMATION, Skewness is :',boston_pd['CRIM_cbrt'].skew().round(3))\n",
        "print('\\n')\n",
        "sns.distplot(boston_pd['CRIM_cbrt'])\n",
        "\n",
        "# Inference : \n",
        "# The distribution certainly now appears to be much more normal."
      ],
      "execution_count": null,
      "outputs": [
        {
          "output_type": "stream",
          "text": [
            "After CUBE ROOT TRANSFORMATION, Skewness is : 1.363\n",
            "\n",
            "\n"
          ],
          "name": "stdout"
        },
        {
          "output_type": "execute_result",
          "data": {
            "text/plain": [
              "<matplotlib.axes._subplots.AxesSubplot at 0x7f0f82463748>"
            ]
          },
          "metadata": {
            "tags": []
          },
          "execution_count": 9
        },
        {
          "output_type": "display_data",
          "data": {
            "image/png": "[encoded data removed]",
            "text/plain": [
              "<Figure size 432x288 with 1 Axes>"
            ]
          },
          "metadata": {
            "tags": [],
            "needs_background": "light"
          }
        }
      ]
    },
    {
      "cell_type": "code",
      "metadata": {
        "id": "ifkvV5vJAKdW",
        "colab": {
          "base_uri": "https://localhost:8080/",
          "height": 337
        },
        "outputId": "2880c41d-a651-4e62-f142-fc4e4360b873"
      },
      "source": [
        "# Box Cox Transformation\n",
        "\n",
        "CRIM_BoxCox = stats.boxcox(boston_pd['CRIM'])[0]\n",
        "Variable = pd.Series(CRIM_BoxCox)\n",
        "\n",
        "print(\"After BoxCox Transformation, Skewness is \",Variable.skew().round(3))\n",
        "print('\\n')\n",
        "sns.distplot(Variable)\n",
        "\n",
        "# Inference :\n",
        "# So the best one is BoxCox Transformation because of LOWEST SKEWNESS out of all three"
      ],
      "execution_count": null,
      "outputs": [
        {
          "output_type": "stream",
          "text": [
            "After BoxCox Transformation, Skewness is  0.094\n",
            "\n",
            "\n"
          ],
          "name": "stdout"
        },
        {
          "output_type": "execute_result",
          "data": {
            "text/plain": [
              "<matplotlib.axes._subplots.AxesSubplot at 0x7f0f74de9940>"
            ]
          },
          "metadata": {
            "tags": []
          },
          "execution_count": 10
        },
        {
          "output_type": "display_data",
          "data": {
            "image/png": "[encoded data removed]",
            "text/plain": [
              "<Figure size 432x288 with 1 Axes>"
            ]
          },
          "metadata": {
            "tags": [],
            "needs_background": "light"
          }
        }
      ]
    },
    {
      "cell_type": "code",
      "metadata": {
        "id": "rD3_3KvtAsmG",
        "colab": {
          "base_uri": "https://localhost:8080/",
          "height": 222
        },
        "outputId": "f19e6494-699e-48e6-c59a-82803b78081d"
      },
      "source": [
        "# All the Skewness Value Calculated\n",
        "print(\"Comparing all Skewness values\")\n",
        "pd.DataFrame([boston_pd['CRIM'].skew(),boston_pd['CRIM_Log'].skew(),\n",
        "              boston_pd['CRIM_Sqrt'].skew(),\n",
        "              boston_pd['CRIM_cbrt'].skew(),Variable.skew()],\n",
        "             index=['Normal','Log','Square Root','Cube Root','Box Cox'],\n",
        "             columns = [\"CRIM Skewness\"])\n",
        "\n",
        "# Inference : Best transformations can be Log or Box Cox Transformation"
      ],
      "execution_count": null,
      "outputs": [
        {
          "output_type": "stream",
          "text": [
            "Comparing all Skewness values\n"
          ],
          "name": "stdout"
        },
        {
          "output_type": "execute_result",
          "data": {
            "text/html": [
              "<div>\n",
              "<style scoped>\n",
              "    .dataframe tbody tr th:only-of-type {\n",
              "        vertical-align: middle;\n",
              "    }\n",
              "\n",
              "    .dataframe tbody tr th {\n",
              "        vertical-align: top;\n",
              "    }\n",
              "\n",
              "    .dataframe thead th {\n",
              "        text-align: right;\n",
              "    }\n",
              "</style>\n",
              "<table border=\"1\" class=\"dataframe\">\n",
              "  <thead>\n",
              "    <tr style=\"text-align: right;\">\n",
              "      <th></th>\n",
              "      <th>CRIM Skewness</th>\n",
              "    </tr>\n",
              "  </thead>\n",
              "  <tbody>\n",
              "    <tr>\n",
              "      <th>Normal</th>\n",
              "      <td>5.223149</td>\n",
              "    </tr>\n",
              "    <tr>\n",
              "      <th>Log</th>\n",
              "      <td>0.405934</td>\n",
              "    </tr>\n",
              "    <tr>\n",
              "      <th>Square Root</th>\n",
              "      <td>2.024382</td>\n",
              "    </tr>\n",
              "    <tr>\n",
              "      <th>Cube Root</th>\n",
              "      <td>1.362514</td>\n",
              "    </tr>\n",
              "    <tr>\n",
              "      <th>Box Cox</th>\n",
              "      <td>0.093649</td>\n",
              "    </tr>\n",
              "  </tbody>\n",
              "</table>\n",
              "</div>"
            ],
            "text/plain": [
              "             CRIM Skewness\n",
              "Normal            5.223149\n",
              "Log               0.405934\n",
              "Square Root       2.024382\n",
              "Cube Root         1.362514\n",
              "Box Cox           0.093649"
            ]
          },
          "metadata": {
            "tags": []
          },
          "execution_count": 11
        }
      ]
    },
    {
      "cell_type": "code",
      "metadata": {
        "id": "a8exGVYIBXN0",
        "colab": {
          "base_uri": "https://localhost:8080/",
          "height": 35
        },
        "outputId": "a4aab017-bd63-4b39-ca06-e6c3aaffbb0d"
      },
      "source": [
        "# Min Max Scaler\n",
        "\n",
        "# MinMaxScaler method is one of the methods of standardizing \n",
        "# the data where values are made to lie between 0 and 1.\n",
        "\n",
        "# Initialization\n",
        "# We begin with initializing the min_max function.\n",
        "\n",
        "scaled = min_max()\n",
        "scaled\n",
        "\n",
        "# Inference : Range is set from 0 to 1"
      ],
      "execution_count": null,
      "outputs": [
        {
          "output_type": "execute_result",
          "data": {
            "text/plain": [
              "MinMaxScaler(copy=True, feature_range=(0, 1))"
            ]
          },
          "metadata": {
            "tags": []
          },
          "execution_count": 12
        }
      ]
    },
    {
      "cell_type": "code",
      "metadata": {
        "id": "hf4DYUNVCkBh",
        "colab": {
          "base_uri": "https://localhost:8080/",
          "height": 35
        },
        "outputId": "02d949f1-aa9b-46df-a6b0-627bd4c120ee"
      },
      "source": [
        "# Fit min_max function\n",
        "\n",
        "# After initialization, we fit the mix_max function on the numerical variable which we need to standardize.\n",
        "scaled.fit(boston_pd)"
      ],
      "execution_count": null,
      "outputs": [
        {
          "output_type": "execute_result",
          "data": {
            "text/plain": [
              "MinMaxScaler(copy=True, feature_range=(0, 1))"
            ]
          },
          "metadata": {
            "tags": []
          },
          "execution_count": 13
        }
      ]
    },
    {
      "cell_type": "code",
      "metadata": {
        "id": "bR7_gGLPDblK",
        "colab": {
          "base_uri": "https://localhost:8080/",
          "height": 251
        },
        "outputId": "8a6cb52f-46cb-4ef7-f822-a106d4268743"
      },
      "source": [
        "# Generating Output\n",
        "\n",
        "# Once the function is fit, we can generate output which will have the standardized values \n",
        "boston_pd_scaled = scaled.transform(boston_pd)\n",
        "boston_pd_scaled"
      ],
      "execution_count": null,
      "outputs": [
        {
          "output_type": "execute_result",
          "data": {
            "text/plain": [
              "array([[0.00000000e+00, 1.80000000e-01, 6.78152493e-02, ...,\n",
              "        0.00000000e+00, 0.00000000e+00, 0.00000000e+00],\n",
              "       [2.35922539e-04, 0.00000000e+00, 2.42302053e-01, ...,\n",
              "        1.53211022e-01, 9.16892109e-03, 2.71662926e-02],\n",
              "       [2.35697744e-04, 0.00000000e+00, 2.42302053e-01, ...,\n",
              "        1.53134329e-01, 9.16245030e-03, 2.71491104e-02],\n",
              "       ...,\n",
              "       [6.11892474e-04, 0.00000000e+00, 4.20454545e-01, ...,\n",
              "        2.36925934e-01, 1.78544915e-02, 4.86617589e-02],\n",
              "       [1.16072990e-03, 0.00000000e+00, 4.20454545e-01, ...,\n",
              "        2.98671060e-01, 2.68939834e-02, 6.86206232e-02],\n",
              "       [4.61841693e-04, 0.00000000e+00, 4.20454545e-01, ...,\n",
              "        2.10953574e-01, 1.47799292e-02, 4.13702247e-02]])"
            ]
          },
          "metadata": {
            "tags": []
          },
          "execution_count": 14
        }
      ]
    },
    {
      "cell_type": "code",
      "metadata": {
        "id": "7Ei1kK1TDvrK",
        "colab": {
          "base_uri": "https://localhost:8080/",
          "height": 71
        },
        "outputId": "03ef2d53-5e52-40df-f486-572e7924f356"
      },
      "source": [
        "# Binning\n",
        "\n",
        "# This method is used to create bins for continuous variables \n",
        "# where continuous variables are converted to categorical variables.\n",
        "# Two types Binning - 1. Automatic & Manual Binning\n",
        "\n",
        "# For this Analysis we will only take 'AGE' Column in Boston Dataset\n",
        "AgeData = boston_pd[['AGE']]\n",
        "print(type(AgeData))\n",
        "print(AgeData.dtypes)"
      ],
      "execution_count": null,
      "outputs": [
        {
          "output_type": "stream",
          "text": [
            "<class 'pandas.core.frame.DataFrame'>\n",
            "AGE    float64\n",
            "dtype: object\n"
          ],
          "name": "stdout"
        }
      ]
    },
    {
      "cell_type": "code",
      "metadata": {
        "id": "ZWKDS5mQGfem",
        "colab": {
          "base_uri": "https://localhost:8080/",
          "height": 332
        },
        "outputId": "f71865b7-069d-4e22-dec2-c0cb5c56beba"
      },
      "source": [
        "# Automatic Binning\n",
        "\n",
        "# Bins are created automatically \n",
        "# we do not explicitly mention how the bins are to be created\n",
        "\n",
        "AgeData['Auto_BINS'] = pd.cut(AgeData['AGE'],4)\n",
        "AgeData.head()"
      ],
      "execution_count": null,
      "outputs": [
        {
          "output_type": "stream",
          "text": [
            "/usr/local/lib/python3.6/dist-packages/ipykernel_launcher.py:6: SettingWithCopyWarning: \n",
            "A value is trying to be set on a copy of a slice from a DataFrame.\n",
            "Try using .loc[row_indexer,col_indexer] = value instead\n",
            "\n",
            "See the caveats in the documentation: https://pandas.pydata.org/pandas-docs/stable/user_guide/indexing.html#returning-a-view-versus-a-copy\n",
            "  \n"
          ],
          "name": "stderr"
        },
        {
          "output_type": "execute_result",
          "data": {
            "text/html": [
              "<div>\n",
              "<style scoped>\n",
              "    .dataframe tbody tr th:only-of-type {\n",
              "        vertical-align: middle;\n",
              "    }\n",
              "\n",
              "    .dataframe tbody tr th {\n",
              "        vertical-align: top;\n",
              "    }\n",
              "\n",
              "    .dataframe thead th {\n",
              "        text-align: right;\n",
              "    }\n",
              "</style>\n",
              "<table border=\"1\" class=\"dataframe\">\n",
              "  <thead>\n",
              "    <tr style=\"text-align: right;\">\n",
              "      <th></th>\n",
              "      <th>AGE</th>\n",
              "      <th>Auto_BINS</th>\n",
              "    </tr>\n",
              "  </thead>\n",
              "  <tbody>\n",
              "    <tr>\n",
              "      <th>0</th>\n",
              "      <td>65.2</td>\n",
              "      <td>(51.45, 75.725]</td>\n",
              "    </tr>\n",
              "    <tr>\n",
              "      <th>1</th>\n",
              "      <td>78.9</td>\n",
              "      <td>(75.725, 100.0]</td>\n",
              "    </tr>\n",
              "    <tr>\n",
              "      <th>2</th>\n",
              "      <td>61.1</td>\n",
              "      <td>(51.45, 75.725]</td>\n",
              "    </tr>\n",
              "    <tr>\n",
              "      <th>3</th>\n",
              "      <td>45.8</td>\n",
              "      <td>(27.175, 51.45]</td>\n",
              "    </tr>\n",
              "    <tr>\n",
              "      <th>4</th>\n",
              "      <td>54.2</td>\n",
              "      <td>(51.45, 75.725]</td>\n",
              "    </tr>\n",
              "  </tbody>\n",
              "</table>\n",
              "</div>"
            ],
            "text/plain": [
              "    AGE        Auto_BINS\n",
              "0  65.2  (51.45, 75.725]\n",
              "1  78.9  (75.725, 100.0]\n",
              "2  61.1  (51.45, 75.725]\n",
              "3  45.8  (27.175, 51.45]\n",
              "4  54.2  (51.45, 75.725]"
            ]
          },
          "metadata": {
            "tags": []
          },
          "execution_count": 16
        }
      ]
    },
    {
      "cell_type": "code",
      "metadata": {
        "id": "HGvI3DLgHDDr",
        "colab": {
          "base_uri": "https://localhost:8080/",
          "height": 332
        },
        "outputId": "296a4a77-e7bf-4df4-81ee-a4eb5f7dbb37"
      },
      "source": [
        "# Manual Binning\n",
        "\n",
        "# We specify in the code about where the bins are to be created.\n",
        "AgeData['Manual_BINS']=pd.cut(AgeData['AGE'],bins=[0,50,60,70,80],\n",
        "                              labels=[\"0-50\",\"51-60\",\"61-70\",\"70+\"])\n",
        "AgeData.head()"
      ],
      "execution_count": null,
      "outputs": [
        {
          "output_type": "stream",
          "text": [
            "/usr/local/lib/python3.6/dist-packages/ipykernel_launcher.py:5: SettingWithCopyWarning: \n",
            "A value is trying to be set on a copy of a slice from a DataFrame.\n",
            "Try using .loc[row_indexer,col_indexer] = value instead\n",
            "\n",
            "See the caveats in the documentation: https://pandas.pydata.org/pandas-docs/stable/user_guide/indexing.html#returning-a-view-versus-a-copy\n",
            "  \"\"\"\n"
          ],
          "name": "stderr"
        },
        {
          "output_type": "execute_result",
          "data": {
            "text/html": [
              "<div>\n",
              "<style scoped>\n",
              "    .dataframe tbody tr th:only-of-type {\n",
              "        vertical-align: middle;\n",
              "    }\n",
              "\n",
              "    .dataframe tbody tr th {\n",
              "        vertical-align: top;\n",
              "    }\n",
              "\n",
              "    .dataframe thead th {\n",
              "        text-align: right;\n",
              "    }\n",
              "</style>\n",
              "<table border=\"1\" class=\"dataframe\">\n",
              "  <thead>\n",
              "    <tr style=\"text-align: right;\">\n",
              "      <th></th>\n",
              "      <th>AGE</th>\n",
              "      <th>Auto_BINS</th>\n",
              "      <th>Manual_BINS</th>\n",
              "    </tr>\n",
              "  </thead>\n",
              "  <tbody>\n",
              "    <tr>\n",
              "      <th>0</th>\n",
              "      <td>65.2</td>\n",
              "      <td>(51.45, 75.725]</td>\n",
              "      <td>61-70</td>\n",
              "    </tr>\n",
              "    <tr>\n",
              "      <th>1</th>\n",
              "      <td>78.9</td>\n",
              "      <td>(75.725, 100.0]</td>\n",
              "      <td>70+</td>\n",
              "    </tr>\n",
              "    <tr>\n",
              "      <th>2</th>\n",
              "      <td>61.1</td>\n",
              "      <td>(51.45, 75.725]</td>\n",
              "      <td>61-70</td>\n",
              "    </tr>\n",
              "    <tr>\n",
              "      <th>3</th>\n",
              "      <td>45.8</td>\n",
              "      <td>(27.175, 51.45]</td>\n",
              "      <td>0-50</td>\n",
              "    </tr>\n",
              "    <tr>\n",
              "      <th>4</th>\n",
              "      <td>54.2</td>\n",
              "      <td>(51.45, 75.725]</td>\n",
              "      <td>51-60</td>\n",
              "    </tr>\n",
              "  </tbody>\n",
              "</table>\n",
              "</div>"
            ],
            "text/plain": [
              "    AGE        Auto_BINS Manual_BINS\n",
              "0  65.2  (51.45, 75.725]       61-70\n",
              "1  78.9  (75.725, 100.0]         70+\n",
              "2  61.1  (51.45, 75.725]       61-70\n",
              "3  45.8  (27.175, 51.45]        0-50\n",
              "4  54.2  (51.45, 75.725]       51-60"
            ]
          },
          "metadata": {
            "tags": []
          },
          "execution_count": 17
        }
      ]
    },
    {
      "cell_type": "code",
      "metadata": {
        "id": "fmkCqtOdS8lZ",
        "colab": {
          "base_uri": "https://localhost:8080/",
          "height": 359
        },
        "outputId": "e858f659-01dd-4db9-c95b-4e2d1057dbd6"
      },
      "source": [
        "# Encoding\n",
        "\n",
        "# Encoding is a process of creating numerical variables from categorical variables\n",
        "# This is done in order to make the categorical features available for analysis \n",
        "# as most of the learning algorithms require numerical features for their functioning.\n",
        "\n",
        "# Creating Dataset\n",
        "# We create an arbitrary dataset having Age and Gender of 10 individuals.\n",
        "Encode1 = pd.DataFrame({'Gender':['M','F','F','M','M','M','F','M','F','F'],\n",
        "                       'Age':['22','23','24','26','28','30','27','32','35','37']})\n",
        "Encode1"
      ],
      "execution_count": null,
      "outputs": [
        {
          "output_type": "execute_result",
          "data": {
            "text/html": [
              "<div>\n",
              "<style scoped>\n",
              "    .dataframe tbody tr th:only-of-type {\n",
              "        vertical-align: middle;\n",
              "    }\n",
              "\n",
              "    .dataframe tbody tr th {\n",
              "        vertical-align: top;\n",
              "    }\n",
              "\n",
              "    .dataframe thead th {\n",
              "        text-align: right;\n",
              "    }\n",
              "</style>\n",
              "<table border=\"1\" class=\"dataframe\">\n",
              "  <thead>\n",
              "    <tr style=\"text-align: right;\">\n",
              "      <th></th>\n",
              "      <th>Gender</th>\n",
              "      <th>Age</th>\n",
              "    </tr>\n",
              "  </thead>\n",
              "  <tbody>\n",
              "    <tr>\n",
              "      <th>0</th>\n",
              "      <td>M</td>\n",
              "      <td>22</td>\n",
              "    </tr>\n",
              "    <tr>\n",
              "      <th>1</th>\n",
              "      <td>F</td>\n",
              "      <td>23</td>\n",
              "    </tr>\n",
              "    <tr>\n",
              "      <th>2</th>\n",
              "      <td>F</td>\n",
              "      <td>24</td>\n",
              "    </tr>\n",
              "    <tr>\n",
              "      <th>3</th>\n",
              "      <td>M</td>\n",
              "      <td>26</td>\n",
              "    </tr>\n",
              "    <tr>\n",
              "      <th>4</th>\n",
              "      <td>M</td>\n",
              "      <td>28</td>\n",
              "    </tr>\n",
              "    <tr>\n",
              "      <th>5</th>\n",
              "      <td>M</td>\n",
              "      <td>30</td>\n",
              "    </tr>\n",
              "    <tr>\n",
              "      <th>6</th>\n",
              "      <td>F</td>\n",
              "      <td>27</td>\n",
              "    </tr>\n",
              "    <tr>\n",
              "      <th>7</th>\n",
              "      <td>M</td>\n",
              "      <td>32</td>\n",
              "    </tr>\n",
              "    <tr>\n",
              "      <th>8</th>\n",
              "      <td>F</td>\n",
              "      <td>35</td>\n",
              "    </tr>\n",
              "    <tr>\n",
              "      <th>9</th>\n",
              "      <td>F</td>\n",
              "      <td>37</td>\n",
              "    </tr>\n",
              "  </tbody>\n",
              "</table>\n",
              "</div>"
            ],
            "text/plain": [
              "  Gender Age\n",
              "0      M  22\n",
              "1      F  23\n",
              "2      F  24\n",
              "3      M  26\n",
              "4      M  28\n",
              "5      M  30\n",
              "6      F  27\n",
              "7      M  32\n",
              "8      F  35\n",
              "9      F  37"
            ]
          },
          "metadata": {
            "tags": []
          },
          "execution_count": 18
        }
      ]
    },
    {
      "cell_type": "code",
      "metadata": {
        "id": "n_k-zvpWTntr",
        "colab": {
          "base_uri": "https://localhost:8080/",
          "height": 359
        },
        "outputId": "96f40260-f922-4d73-c291-5d5ddfa3bbab"
      },
      "source": [
        "# get_dummies: It is one of the available functions to perform Encoding.\n",
        " \n",
        "# Performing Encoding\n",
        "Encode1_Dummy = pd.get_dummies(Encode1,columns=['Gender'])\n",
        "Encode1_Dummy"
      ],
      "execution_count": null,
      "outputs": [
        {
          "output_type": "execute_result",
          "data": {
            "text/html": [
              "<div>\n",
              "<style scoped>\n",
              "    .dataframe tbody tr th:only-of-type {\n",
              "        vertical-align: middle;\n",
              "    }\n",
              "\n",
              "    .dataframe tbody tr th {\n",
              "        vertical-align: top;\n",
              "    }\n",
              "\n",
              "    .dataframe thead th {\n",
              "        text-align: right;\n",
              "    }\n",
              "</style>\n",
              "<table border=\"1\" class=\"dataframe\">\n",
              "  <thead>\n",
              "    <tr style=\"text-align: right;\">\n",
              "      <th></th>\n",
              "      <th>Age</th>\n",
              "      <th>Gender_F</th>\n",
              "      <th>Gender_M</th>\n",
              "    </tr>\n",
              "  </thead>\n",
              "  <tbody>\n",
              "    <tr>\n",
              "      <th>0</th>\n",
              "      <td>22</td>\n",
              "      <td>0</td>\n",
              "      <td>1</td>\n",
              "    </tr>\n",
              "    <tr>\n",
              "      <th>1</th>\n",
              "      <td>23</td>\n",
              "      <td>1</td>\n",
              "      <td>0</td>\n",
              "    </tr>\n",
              "    <tr>\n",
              "      <th>2</th>\n",
              "      <td>24</td>\n",
              "      <td>1</td>\n",
              "      <td>0</td>\n",
              "    </tr>\n",
              "    <tr>\n",
              "      <th>3</th>\n",
              "      <td>26</td>\n",
              "      <td>0</td>\n",
              "      <td>1</td>\n",
              "    </tr>\n",
              "    <tr>\n",
              "      <th>4</th>\n",
              "      <td>28</td>\n",
              "      <td>0</td>\n",
              "      <td>1</td>\n",
              "    </tr>\n",
              "    <tr>\n",
              "      <th>5</th>\n",
              "      <td>30</td>\n",
              "      <td>0</td>\n",
              "      <td>1</td>\n",
              "    </tr>\n",
              "    <tr>\n",
              "      <th>6</th>\n",
              "      <td>27</td>\n",
              "      <td>1</td>\n",
              "      <td>0</td>\n",
              "    </tr>\n",
              "    <tr>\n",
              "      <th>7</th>\n",
              "      <td>32</td>\n",
              "      <td>0</td>\n",
              "      <td>1</td>\n",
              "    </tr>\n",
              "    <tr>\n",
              "      <th>8</th>\n",
              "      <td>35</td>\n",
              "      <td>1</td>\n",
              "      <td>0</td>\n",
              "    </tr>\n",
              "    <tr>\n",
              "      <th>9</th>\n",
              "      <td>37</td>\n",
              "      <td>1</td>\n",
              "      <td>0</td>\n",
              "    </tr>\n",
              "  </tbody>\n",
              "</table>\n",
              "</div>"
            ],
            "text/plain": [
              "  Age  Gender_F  Gender_M\n",
              "0  22         0         1\n",
              "1  23         1         0\n",
              "2  24         1         0\n",
              "3  26         0         1\n",
              "4  28         0         1\n",
              "5  30         0         1\n",
              "6  27         1         0\n",
              "7  32         0         1\n",
              "8  35         1         0\n",
              "9  37         1         0"
            ]
          },
          "metadata": {
            "tags": []
          },
          "execution_count": 19
        }
      ]
    },
    {
      "cell_type": "code",
      "metadata": {
        "id": "IRSXGdHVUWrK",
        "colab": {
          "base_uri": "https://localhost:8080/",
          "height": 359
        },
        "outputId": "44995ba0-1502-4dc5-a797-d0eec965996a"
      },
      "source": [
        "# Using drop_first\n",
        "\n",
        "# Most of the times, if we have x number of categorical variables \n",
        "# then we want x-1 number of dummy variables. To do so we use the drop_first command.\n",
        "\n",
        "Encode1_Dummy = pd.get_dummies(Encode1,columns=['Gender'],drop_first=True)\n",
        "Encode1_Dummy"
      ],
      "execution_count": null,
      "outputs": [
        {
          "output_type": "execute_result",
          "data": {
            "text/html": [
              "<div>\n",
              "<style scoped>\n",
              "    .dataframe tbody tr th:only-of-type {\n",
              "        vertical-align: middle;\n",
              "    }\n",
              "\n",
              "    .dataframe tbody tr th {\n",
              "        vertical-align: top;\n",
              "    }\n",
              "\n",
              "    .dataframe thead th {\n",
              "        text-align: right;\n",
              "    }\n",
              "</style>\n",
              "<table border=\"1\" class=\"dataframe\">\n",
              "  <thead>\n",
              "    <tr style=\"text-align: right;\">\n",
              "      <th></th>\n",
              "      <th>Age</th>\n",
              "      <th>Gender_M</th>\n",
              "    </tr>\n",
              "  </thead>\n",
              "  <tbody>\n",
              "    <tr>\n",
              "      <th>0</th>\n",
              "      <td>22</td>\n",
              "      <td>1</td>\n",
              "    </tr>\n",
              "    <tr>\n",
              "      <th>1</th>\n",
              "      <td>23</td>\n",
              "      <td>0</td>\n",
              "    </tr>\n",
              "    <tr>\n",
              "      <th>2</th>\n",
              "      <td>24</td>\n",
              "      <td>0</td>\n",
              "    </tr>\n",
              "    <tr>\n",
              "      <th>3</th>\n",
              "      <td>26</td>\n",
              "      <td>1</td>\n",
              "    </tr>\n",
              "    <tr>\n",
              "      <th>4</th>\n",
              "      <td>28</td>\n",
              "      <td>1</td>\n",
              "    </tr>\n",
              "    <tr>\n",
              "      <th>5</th>\n",
              "      <td>30</td>\n",
              "      <td>1</td>\n",
              "    </tr>\n",
              "    <tr>\n",
              "      <th>6</th>\n",
              "      <td>27</td>\n",
              "      <td>0</td>\n",
              "    </tr>\n",
              "    <tr>\n",
              "      <th>7</th>\n",
              "      <td>32</td>\n",
              "      <td>1</td>\n",
              "    </tr>\n",
              "    <tr>\n",
              "      <th>8</th>\n",
              "      <td>35</td>\n",
              "      <td>0</td>\n",
              "    </tr>\n",
              "    <tr>\n",
              "      <th>9</th>\n",
              "      <td>37</td>\n",
              "      <td>0</td>\n",
              "    </tr>\n",
              "  </tbody>\n",
              "</table>\n",
              "</div>"
            ],
            "text/plain": [
              "  Age  Gender_M\n",
              "0  22         1\n",
              "1  23         0\n",
              "2  24         0\n",
              "3  26         1\n",
              "4  28         1\n",
              "5  30         1\n",
              "6  27         0\n",
              "7  32         1\n",
              "8  35         0\n",
              "9  37         0"
            ]
          },
          "metadata": {
            "tags": []
          },
          "execution_count": 20
        }
      ]
    },
    {
      "cell_type": "code",
      "metadata": {
        "id": "9ezUJTzMUvFW",
        "colab": {
          "base_uri": "https://localhost:8080/",
          "height": 71
        },
        "outputId": "01d6055e-cd46-42b1-dbca-ff6102065914"
      },
      "source": [
        "# One Hot Encoding\n",
        "\n",
        "# It is another method of Encoding\n",
        "onehot_encoder = OneHotEncoder(sparse=False)\n",
        "print(onehot_encoder)\n",
        "label_encoder = LabelEncoder()\n",
        "print(label_encoder)"
      ],
      "execution_count": null,
      "outputs": [
        {
          "output_type": "stream",
          "text": [
            "OneHotEncoder(categories='auto', drop=None, dtype=<class 'numpy.float64'>,\n",
            "              handle_unknown='error', sparse=False)\n",
            "LabelEncoder()\n"
          ],
          "name": "stdout"
        }
      ]
    },
    {
      "cell_type": "code",
      "metadata": {
        "id": "QXteOvcIe2a9",
        "colab": {
          "base_uri": "https://localhost:8080/",
          "height": 35
        },
        "outputId": "8e7ed0a0-be54-4f04-af63-a49aba0d34e4"
      },
      "source": [
        "# Labeling\n",
        "\n",
        "# Here Label encoder is used to first label the the column ‘Gender’ i.e. the gender to 0s and 1s.\n",
        "integer_encoded = label_encoder.fit_transform(Encode1['Gender'])\n",
        "integer_encoded"
      ],
      "execution_count": null,
      "outputs": [
        {
          "output_type": "execute_result",
          "data": {
            "text/plain": [
              "array([1, 0, 0, 1, 1, 1, 0, 1, 0, 0])"
            ]
          },
          "metadata": {
            "tags": []
          },
          "execution_count": 22
        }
      ]
    },
    {
      "cell_type": "code",
      "metadata": {
        "id": "Jht2Vj2UfP_p",
        "colab": {
          "base_uri": "https://localhost:8080/",
          "height": 197
        },
        "outputId": "c09dcbaa-1a70-4d03-faaa-8f6ea3676644"
      },
      "source": [
        "# Performing One-Hot Encoding\n",
        "\n",
        "# After the categorical variable has been labeled to 0s and 1s, \n",
        "# we will use one hot encoding to create dummy variable for ‘Gender’\n",
        "integer_encoded = integer_encoded.reshape(len(integer_encoded), 1)\n",
        "onehot_encoded = onehot_encoder.fit_transform(integer_encoded)\n",
        "onehot_encoded"
      ],
      "execution_count": null,
      "outputs": [
        {
          "output_type": "execute_result",
          "data": {
            "text/plain": [
              "array([[0., 1.],\n",
              "       [1., 0.],\n",
              "       [1., 0.],\n",
              "       [0., 1.],\n",
              "       [0., 1.],\n",
              "       [0., 1.],\n",
              "       [1., 0.],\n",
              "       [0., 1.],\n",
              "       [1., 0.],\n",
              "       [1., 0.]])"
            ]
          },
          "metadata": {
            "tags": []
          },
          "execution_count": 23
        }
      ]
    },
    {
      "cell_type": "code",
      "metadata": {
        "id": "i0zUn8b8fjKB",
        "colab": {
          "base_uri": "https://localhost:8080/",
          "height": 204
        },
        "outputId": "cd802e9a-b98c-47cd-ddab-4d5012d56ef8"
      },
      "source": [
        "# One_Hot Encoding on Dataset\n",
        "# We now perform One_Hot encoding on the dataset \n",
        "# that we used above during the application of the get_Dummies function.\n",
        " \n",
        "# Separate Categorical Variables and perform Labeling\n",
        "# We first separate the categorical variables from the dataset and then label them.\n",
        "Encode2 = Encode1[['Gender']]\n",
        "int_lab = Encode2.apply(label_encoder.fit_transform)\n",
        "int_lab.head()"
      ],
      "execution_count": null,
      "outputs": [
        {
          "output_type": "execute_result",
          "data": {
            "text/html": [
              "<div>\n",
              "<style scoped>\n",
              "    .dataframe tbody tr th:only-of-type {\n",
              "        vertical-align: middle;\n",
              "    }\n",
              "\n",
              "    .dataframe tbody tr th {\n",
              "        vertical-align: top;\n",
              "    }\n",
              "\n",
              "    .dataframe thead th {\n",
              "        text-align: right;\n",
              "    }\n",
              "</style>\n",
              "<table border=\"1\" class=\"dataframe\">\n",
              "  <thead>\n",
              "    <tr style=\"text-align: right;\">\n",
              "      <th></th>\n",
              "      <th>Gender</th>\n",
              "    </tr>\n",
              "  </thead>\n",
              "  <tbody>\n",
              "    <tr>\n",
              "      <th>0</th>\n",
              "      <td>1</td>\n",
              "    </tr>\n",
              "    <tr>\n",
              "      <th>1</th>\n",
              "      <td>0</td>\n",
              "    </tr>\n",
              "    <tr>\n",
              "      <th>2</th>\n",
              "      <td>0</td>\n",
              "    </tr>\n",
              "    <tr>\n",
              "      <th>3</th>\n",
              "      <td>1</td>\n",
              "    </tr>\n",
              "    <tr>\n",
              "      <th>4</th>\n",
              "      <td>1</td>\n",
              "    </tr>\n",
              "  </tbody>\n",
              "</table>\n",
              "</div>"
            ],
            "text/plain": [
              "   Gender\n",
              "0       1\n",
              "1       0\n",
              "2       0\n",
              "3       1\n",
              "4       1"
            ]
          },
          "metadata": {
            "tags": []
          },
          "execution_count": 24
        }
      ]
    },
    {
      "cell_type": "code",
      "metadata": {
        "id": "-5q_p0o2f_Sp",
        "colab": {
          "base_uri": "https://localhost:8080/",
          "height": 197
        },
        "outputId": "995725cb-351d-401e-8000-8f96978467c5"
      },
      "source": [
        "# Perform One-Hot Encoding on Dataset\n",
        "\n",
        "# We now perform One-Hot Encoding on these categorical labelled variables.\n",
        "Onhotencode = OneHotEncoder(sparse=False,dtype=int)\n",
        "one_hot_encode_output = Onhotencode.fit_transform(int_lab)\n",
        "one_hot_encode_output"
      ],
      "execution_count": null,
      "outputs": [
        {
          "output_type": "execute_result",
          "data": {
            "text/plain": [
              "array([[0, 1],\n",
              "       [1, 0],\n",
              "       [1, 0],\n",
              "       [0, 1],\n",
              "       [0, 1],\n",
              "       [0, 1],\n",
              "       [1, 0],\n",
              "       [0, 1],\n",
              "       [1, 0],\n",
              "       [1, 0]])"
            ]
          },
          "metadata": {
            "tags": []
          },
          "execution_count": 25
        }
      ]
    },
    {
      "cell_type": "code",
      "metadata": {
        "id": "dNg7V5sugNO8",
        "colab": {
          "base_uri": "https://localhost:8080/",
          "height": 359
        },
        "outputId": "f2ab934b-784f-4a79-a800-af83c904376c"
      },
      "source": [
        "# Transforming the output into Dataframe\n",
        "\n",
        "# For our convenience and ease, we transform the above output into a Dataframe.\n",
        "one_hot_encode_output1 = pd.DataFrame(one_hot_encode_output,\n",
        "                                      columns=['Gender_F','Gender_M'])\n",
        "one_hot_encode_output1"
      ],
      "execution_count": null,
      "outputs": [
        {
          "output_type": "execute_result",
          "data": {
            "text/html": [
              "<div>\n",
              "<style scoped>\n",
              "    .dataframe tbody tr th:only-of-type {\n",
              "        vertical-align: middle;\n",
              "    }\n",
              "\n",
              "    .dataframe tbody tr th {\n",
              "        vertical-align: top;\n",
              "    }\n",
              "\n",
              "    .dataframe thead th {\n",
              "        text-align: right;\n",
              "    }\n",
              "</style>\n",
              "<table border=\"1\" class=\"dataframe\">\n",
              "  <thead>\n",
              "    <tr style=\"text-align: right;\">\n",
              "      <th></th>\n",
              "      <th>Gender_F</th>\n",
              "      <th>Gender_M</th>\n",
              "    </tr>\n",
              "  </thead>\n",
              "  <tbody>\n",
              "    <tr>\n",
              "      <th>0</th>\n",
              "      <td>0</td>\n",
              "      <td>1</td>\n",
              "    </tr>\n",
              "    <tr>\n",
              "      <th>1</th>\n",
              "      <td>1</td>\n",
              "      <td>0</td>\n",
              "    </tr>\n",
              "    <tr>\n",
              "      <th>2</th>\n",
              "      <td>1</td>\n",
              "      <td>0</td>\n",
              "    </tr>\n",
              "    <tr>\n",
              "      <th>3</th>\n",
              "      <td>0</td>\n",
              "      <td>1</td>\n",
              "    </tr>\n",
              "    <tr>\n",
              "      <th>4</th>\n",
              "      <td>0</td>\n",
              "      <td>1</td>\n",
              "    </tr>\n",
              "    <tr>\n",
              "      <th>5</th>\n",
              "      <td>0</td>\n",
              "      <td>1</td>\n",
              "    </tr>\n",
              "    <tr>\n",
              "      <th>6</th>\n",
              "      <td>1</td>\n",
              "      <td>0</td>\n",
              "    </tr>\n",
              "    <tr>\n",
              "      <th>7</th>\n",
              "      <td>0</td>\n",
              "      <td>1</td>\n",
              "    </tr>\n",
              "    <tr>\n",
              "      <th>8</th>\n",
              "      <td>1</td>\n",
              "      <td>0</td>\n",
              "    </tr>\n",
              "    <tr>\n",
              "      <th>9</th>\n",
              "      <td>1</td>\n",
              "      <td>0</td>\n",
              "    </tr>\n",
              "  </tbody>\n",
              "</table>\n",
              "</div>"
            ],
            "text/plain": [
              "   Gender_F  Gender_M\n",
              "0         0         1\n",
              "1         1         0\n",
              "2         1         0\n",
              "3         0         1\n",
              "4         0         1\n",
              "5         0         1\n",
              "6         1         0\n",
              "7         0         1\n",
              "8         1         0\n",
              "9         1         0"
            ]
          },
          "metadata": {
            "tags": []
          },
          "execution_count": 26
        }
      ]
    }
  ]
}